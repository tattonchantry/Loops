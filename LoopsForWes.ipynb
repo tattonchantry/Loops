{
 "cells": [
  {
   "cell_type": "markdown",
   "metadata": {},
   "source": [
    "# Loops"
   ]
  },
  {
   "cell_type": "markdown",
   "metadata": {},
   "source": [
    "## Imports\n",
    "I will explain this later, but since you're seeing the import now... You will see people use:\n",
    "```\n",
    "import glob\n",
    "```\n",
    "then in their code use:\n",
    "```\n",
    "glob.glob\n",
    "```\n",
    "I like to import the actual function I am going to use"
   ]
  },
  {
   "cell_type": "code",
   "execution_count": 14,
   "metadata": {},
   "outputs": [],
   "source": [
    "from glob import glob"
   ]
  },
  {
   "cell_type": "markdown",
   "metadata": {},
   "source": [
    "## Data Types\n",
    "First, I think it's helpful to understand what type of data the netcdf files are that you're trying to loop through. I think you want to loop througha list of file names, and open them. So, first let's look at looping through a bunch of different things to see how it works.\n",
    "<br><br>\n",
    "First let's do a string. I will define the string as 'Hello Wes' then loop through it."
   ]
  },
  {
   "cell_type": "code",
   "execution_count": 1,
   "metadata": {},
   "outputs": [
    {
     "name": "stdout",
     "output_type": "stream",
     "text": [
      "H\n",
      "e\n",
      "l\n",
      "l\n",
      "o\n",
      " \n",
      "W\n",
      "e\n",
      "s\n"
     ]
    }
   ],
   "source": [
    "hello = 'Hello Wes'\n",
    "for i in hello:\n",
    "    print(i)"
   ]
  },
  {
   "cell_type": "markdown",
   "metadata": {},
   "source": [
    "See it just makes a list of the letters and loops through it.  Then you can do other things with it."
   ]
  },
  {
   "cell_type": "code",
   "execution_count": 2,
   "metadata": {},
   "outputs": [
    {
     "name": "stdout",
     "output_type": "stream",
     "text": [
      "H\n",
      "E\n",
      "L\n",
      "L\n",
      "O\n",
      " \n",
      "W\n",
      "E\n",
      "S\n"
     ]
    }
   ],
   "source": [
    "hello = 'Hello Wes'\n",
    "for i in hello:\n",
    "    print(i.upper())"
   ]
  },
  {
   "cell_type": "markdown",
   "metadata": {},
   "source": [
    "Now try a list"
   ]
  },
  {
   "cell_type": "code",
   "execution_count": 3,
   "metadata": {},
   "outputs": [
    {
     "name": "stdout",
     "output_type": "stream",
     "text": [
      "hello\n",
      "Wes,\n",
      "how\n",
      "are\n",
      "you\n",
      "today?\n"
     ]
    }
   ],
   "source": [
    "hello_list = ['hello', 'Wes,', 'how', 'are', 'you', 'today?']\n",
    "for i in hello_list:\n",
    "    print(i)"
   ]
  },
  {
   "cell_type": "markdown",
   "metadata": {},
   "source": [
    "In a list the items are also numbered, starting with 0.\n",
    "\n",
    "I am doing a couple more things here though, I'll print out what those are also."
   ]
  },
  {
   "cell_type": "code",
   "execution_count": 12,
   "metadata": {},
   "outputs": [
    {
     "name": "stdout",
     "output_type": "stream",
     "text": [
      "Hello\n",
      "Wes,\n",
      "how\n",
      "are\n",
      "you\n",
      "today?\n",
      "\n",
      "len(hello_list) is just the 'length' of the list and it equals 6\n",
      "range(), is just a list of numbers. range(5) would give: [0, 1, 2, 3, 4]\n",
      "So, since length is a number, range(len(hello_list)) gives: [0, 1, 2, 3, 4, 5]\n",
      "\n",
      "This is printing out the item from hello_list at each index number\n",
      "The item in hello list at index number 0 is Hello\n",
      "The item in hello list at index number 1 is Wes,\n",
      "The item in hello list at index number 2 is how\n",
      "The item in hello list at index number 3 is are\n",
      "The item in hello list at index number 4 is you\n",
      "The item in hello list at index number 5 is today?\n"
     ]
    }
   ],
   "source": [
    "hello_list = ['Hello', 'Wes,', 'how', 'are', 'you', 'today?']\n",
    "for i in range(len(hello_list)):\n",
    "    print(hello_list[i])\n",
    "\n",
    "print(\"\\nlen(hello_list) is just the 'length' of the list and it equals\", len(hello_list))\n",
    "print(\"range(), is just a list of numbers. range(5) would give:\", list(range(5)))\n",
    "print(\"So, since length is a number, range(len(hello_list)) gives:\", list(range(len(hello_list))))\n",
    "print(\"\\nThis is printing out the item from hello_list at each index number\")\n",
    "for i in range(len(hello_list)):\n",
    "    print(\"The item in hello list at index number\", i, \"is\", hello_list[i])\n",
    "\n"
   ]
  },
  {
   "cell_type": "markdown",
   "metadata": {},
   "source": [
    "It might also help to mention that I am just 'i' because that's the normal thing. It really doesn't matter."
   ]
  },
  {
   "cell_type": "code",
   "execution_count": 20,
   "metadata": {},
   "outputs": [
    {
     "name": "stdout",
     "output_type": "stream",
     "text": [
      "Hello\n",
      "Wes,\n",
      "how\n",
      "are\n",
      "you\n",
      "today?\n",
      "\n",
      "\n",
      "Hello\n",
      "Wes,\n",
      "how\n",
      "are\n",
      "you\n",
      "today?\n"
     ]
    }
   ],
   "source": [
    "hello_list = ['Hello', 'Wes,', 'how', 'are', 'you', 'today?']\n",
    "for dummy_index_number in range(len(hello_list)):\n",
    "    print(hello_list[dummy_index_number])\n",
    "\n",
    "print(\"\\n\")\n",
    "for poop in range(len(hello_list)):\n",
    "    print(hello_list[poop])"
   ]
  },
  {
   "cell_type": "markdown",
   "metadata": {},
   "source": [
    "You could just get the item by the number without the list also. It's a lot like MATLAB."
   ]
  },
  {
   "cell_type": "code",
   "execution_count": 22,
   "metadata": {},
   "outputs": [
    {
     "name": "stdout",
     "output_type": "stream",
     "text": [
      "Wes,\n",
      "['Wes,', 'how', 'are', 'you', 'today?']\n",
      "['Hello', 'Wes,']\n",
      "['Hello', 'Wes,', 'how', 'are']\n",
      "hello_list[1] is the second item because the indexes start at 0: Wes,\n",
      "hello_list[1:] is the second item to the end: ['Wes,', 'how', 'are', 'you', 'today?']\n",
      "hello_list[:2] is everything up to the second item: ['Hello', 'Wes,']\n",
      "hello_list[:-2] is everything up to the second item from the end: ['Hello', 'Wes,', 'how', 'are']\n"
     ]
    }
   ],
   "source": [
    "hello_list = ['Hello', 'Wes,', 'how', 'are', 'you', 'today?']\n",
    "print(hello_list[1])\n",
    "print(hello_list[1:])\n",
    "print(hello_list[:2])\n",
    "print(hello_list[:-2])\n",
    "print(\"hello_list[1] is the second item because the indexes start at 0:\", hello_list[1])\n",
    "print(\"hello_list[1:] is the second item to the end:\", hello_list[1:])\n",
    "print(\"hello_list[:2] is everything up to the second item (not including it):\", hello_list[:2])\n",
    "print(\"hello_list[:-2] is everything up to the second item from the end (negative indexing):\", hello_list[:-2])"
   ]
  },
  {
   "cell_type": "markdown",
   "metadata": {},
   "source": [
    "## Now back to glob\n",
    "glob just give a list of the files you are interested in:\n",
    "```\n",
    "glob('./data/*.ncdf')\n",
    "```\n",
    "would give a list of anything in the data folder with a file extension of .ncdf\n",
    "\n",
    "The star is a wildcard\n",
    "\n",
    "The './' means that it is in the same directory the script is running from. They call that a 'relative path'\n",
    "\n",
    "You could also give it a full path:\n",
    "```\n",
    "glob('C:\\Users\\brodi\\OneDrive\\Desktop\\Temp')\n",
    "```\n",
    "Try it:"
   ]
  },
  {
   "cell_type": "code",
   "execution_count": 16,
   "metadata": {},
   "outputs": [
    {
     "name": "stdout",
     "output_type": "stream",
     "text": [
      "['./data\\\\anotherTestDoc.txt', './data\\\\hello.txt', './data\\\\test.txt']\n"
     ]
    }
   ],
   "source": [
    "data_names = glob('./data/*txt')\n",
    "print(data_names)"
   ]
  },
  {
   "cell_type": "markdown",
   "metadata": {},
   "source": [
    "## Loop through them"
   ]
  },
  {
   "cell_type": "code",
   "execution_count": 23,
   "metadata": {},
   "outputs": [
    {
     "name": "stdout",
     "output_type": "stream",
     "text": [
      "./data\\anotherTestDoc.txt\n",
      "./data\\hello.txt\n",
      "./data\\test.txt\n"
     ]
    }
   ],
   "source": [
    "data_names = glob('./data/*txt')\n",
    "for i in data_names:\n",
    "    print(i)"
   ]
  },
  {
   "cell_type": "markdown",
   "metadata": {},
   "source": [
    "Now you can do something with them. I think I did that in the other notebook.  Let me know if I didn't, or if this helps or not."
   ]
  },
  {
   "cell_type": "code",
   "execution_count": 26,
   "metadata": {},
   "outputs": [
    {
     "name": "stdout",
     "output_type": "stream",
     "text": [
      "You can open ./data\\anotherTestDoc.txt\n",
      "Or get the variables out of ./data\\anotherTestDoc.txt by saying x = i\n",
      "./data\\anotherTestDoc.txt\n",
      "netcdf files come in dictionaries, so it would be more like variable_names = i.keys()\n",
      "Or multiply i by something, here it would just make a longer list ./data\\anotherTestDoc.txt./data\\anotherTestDoc.txt./data\\anotherTestDoc.txt\n",
      "You can open ./data\\hello.txt\n",
      "Or get the variables out of ./data\\hello.txt by saying x = i\n",
      "./data\\hello.txt\n",
      "netcdf files come in dictionaries, so it would be more like variable_names = i.keys()\n",
      "Or multiply i by something, here it would just make a longer list ./data\\hello.txt./data\\hello.txt./data\\hello.txt\n",
      "You can open ./data\\test.txt\n",
      "Or get the variables out of ./data\\test.txt by saying x = i\n",
      "./data\\test.txt\n",
      "netcdf files come in dictionaries, so it would be more like variable_names = i.keys()\n",
      "Or multiply i by something, here it would just make a longer list ./data\\test.txt./data\\test.txt./data\\test.txt\n"
     ]
    }
   ],
   "source": [
    "data_names = glob('./data/*txt')\n",
    "for i in data_names:\n",
    "    print(\"You can open\", i)\n",
    "    print(\"Or get the variables out of\", i, \"by saying x = i\")\n",
    "    x = i\n",
    "    print(x)\n",
    "    print(\"netcdf files come in dictionaries, so it would be more like variable_names = i.keys()\")\n",
    "    print(\"Or multiply i by something, here it would just make a longer list:\", i * 3)"
   ]
  }
 ],
 "metadata": {
  "kernelspec": {
   "display_name": "Python 3",
   "language": "python",
   "name": "python3"
  },
  "language_info": {
   "codemirror_mode": {
    "name": "ipython",
    "version": 3
   },
   "file_extension": ".py",
   "mimetype": "text/x-python",
   "name": "python",
   "nbconvert_exporter": "python",
   "pygments_lexer": "ipython3",
   "version": "3.7.3"
  },
  "toc": {
   "base_numbering": 1,
   "nav_menu": {},
   "number_sections": true,
   "sideBar": true,
   "skip_h1_title": false,
   "title_cell": "Table of Contents",
   "title_sidebar": "Contents",
   "toc_cell": false,
   "toc_position": {},
   "toc_section_display": true,
   "toc_window_display": false
  },
  "varInspector": {
   "cols": {
    "lenName": 16,
    "lenType": 16,
    "lenVar": 40
   },
   "kernels_config": {
    "python": {
     "delete_cmd_postfix": "",
     "delete_cmd_prefix": "del ",
     "library": "var_list.py",
     "varRefreshCmd": "print(var_dic_list())"
    },
    "r": {
     "delete_cmd_postfix": ") ",
     "delete_cmd_prefix": "rm(",
     "library": "var_list.r",
     "varRefreshCmd": "cat(var_dic_list()) "
    }
   },
   "types_to_exclude": [
    "module",
    "function",
    "builtin_function_or_method",
    "instance",
    "_Feature"
   ],
   "window_display": false
  }
 },
 "nbformat": 4,
 "nbformat_minor": 2
}
